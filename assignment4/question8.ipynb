{
 "cells": [
  {
   "cell_type": "code",
   "execution_count": 1,
   "id": "1dbaa8e6",
   "metadata": {},
   "outputs": [],
   "source": [
    "%matplotlib inline\n",
    "import matplotlib.pyplot as plt \n",
    "import pandas as pd\n",
    "import numpy as np\n",
    "from sklearn.utils import shuffle\n",
    "from sklearn.model_selection import cross_val_score\n",
    "import pandas as pd \n",
    "import numpy as np \n",
    "import seaborn as sns\n",
    "import matplotlib.pyplot as plt \n",
    "from matplotlib.colors import ListedColormap\n",
    "import re \n",
    "import nltk\n",
    "from nltk.tokenize import RegexpTokenizer\n",
    "import unicodedata\n",
    "from nltk.corpus import stopwords\n",
    "from nltk.stem import WordNetLemmatizer\n",
    "import spacy\n",
    "from sklearn.feature_extraction.text import TfidfVectorizer, CountVectorizer\n",
    "from sklearn.model_selection import train_test_split, StratifiedKFold, cross_val_score, learning_curve\n",
    "import tensorflow as tf\n",
    "from tensorflow  import keras\n",
    "from keras.utils.vis_utils import plot_model\n",
    "from sklearn.metrics import classification_report, confusion_matrix, accuracy_score\n",
    "import nltk\n",
    "import pickle\n",
    "from sklearn.neural_network import MLPClassifier\n",
    "from sklearn.linear_model import Perceptron\n",
    "from ipywidgets import widgets as w \n",
    "from ipywidgets import interact\n",
    "from sklearn.datasets import make_moons, make_classification\n",
    "from sklearn.preprocessing import StandardScaler\n",
    "from sklearn.utils import shuffle\n",
    "from sklearn.pipeline import make_pipeline\n",
    "from math import exp\n",
    "from numpy.linalg import norm, pinv"
   ]
  },
  {
   "cell_type": "code",
   "execution_count": null,
   "id": "520b8158",
   "metadata": {},
   "outputs": [],
   "source": [
    "#Question 8 [1.5 pts]: Design an RBF network to solve the XOR problem with input and output given as follows, where X1 and X2 are features and Y is the output.\n"
   ]
  },
  {
   "cell_type": "code",
   "execution_count": 8,
   "id": "cb799683",
   "metadata": {},
   "outputs": [],
   "source": [
    "def GK(a1, a2, t):\n",
    "    return np.exp((-(norm(np.array([a1, a2]) - t))**2)/2)"
   ]
  },
  {
   "cell_type": "code",
   "execution_count": 9,
   "id": "3acfab3d",
   "metadata": {},
   "outputs": [],
   "source": [
    "values = pd.DataFrame({\n",
    "    \"A1\":[0,1,0,1],\n",
    "    \"A2\":[0,0,1,1],\n",
    "    \"Y\" :[-1,1,1,-1]\n",
    "})\n"
   ]
  },
  {
   "cell_type": "code",
   "execution_count": 10,
   "id": "1c8f836d",
   "metadata": {},
   "outputs": [],
   "source": [
    "v1 = np.array([0.1, 0.1])\n",
    "v2 = np.array([0.7, 0.7])\n"
   ]
  },
  {
   "cell_type": "code",
   "execution_count": 12,
   "id": "77a08691",
   "metadata": {},
   "outputs": [
    {
     "data": {
      "text/html": [
       "<div>\n",
       "<style scoped>\n",
       "    .dataframe tbody tr th:only-of-type {\n",
       "        vertical-align: middle;\n",
       "    }\n",
       "\n",
       "    .dataframe tbody tr th {\n",
       "        vertical-align: top;\n",
       "    }\n",
       "\n",
       "    .dataframe thead th {\n",
       "        text-align: right;\n",
       "    }\n",
       "</style>\n",
       "<table border=\"1\" class=\"dataframe\">\n",
       "  <thead>\n",
       "    <tr style=\"text-align: right;\">\n",
       "      <th></th>\n",
       "      <th>A1</th>\n",
       "      <th>A2</th>\n",
       "      <th>vva</th>\n",
       "      <th>vvb</th>\n",
       "      <th>Y</th>\n",
       "    </tr>\n",
       "  </thead>\n",
       "  <tbody>\n",
       "    <tr>\n",
       "      <th>0</th>\n",
       "      <td>0</td>\n",
       "      <td>0</td>\n",
       "      <td>0.990050</td>\n",
       "      <td>0.612626</td>\n",
       "      <td>-1</td>\n",
       "    </tr>\n",
       "    <tr>\n",
       "      <th>1</th>\n",
       "      <td>1</td>\n",
       "      <td>0</td>\n",
       "      <td>0.444858</td>\n",
       "      <td>0.612626</td>\n",
       "      <td>1</td>\n",
       "    </tr>\n",
       "    <tr>\n",
       "      <th>2</th>\n",
       "      <td>0</td>\n",
       "      <td>1</td>\n",
       "      <td>0.990050</td>\n",
       "      <td>0.913931</td>\n",
       "      <td>1</td>\n",
       "    </tr>\n",
       "    <tr>\n",
       "      <th>3</th>\n",
       "      <td>1</td>\n",
       "      <td>1</td>\n",
       "      <td>0.444858</td>\n",
       "      <td>0.913931</td>\n",
       "      <td>-1</td>\n",
       "    </tr>\n",
       "  </tbody>\n",
       "</table>\n",
       "</div>"
      ],
      "text/plain": [
       "   A1  A2       vva       vvb  Y\n",
       "0   0   0  0.990050  0.612626 -1\n",
       "1   1   0  0.444858  0.612626  1\n",
       "2   0   1  0.990050  0.913931  1\n",
       "3   1   1  0.444858  0.913931 -1"
      ]
     },
     "execution_count": 12,
     "metadata": {},
     "output_type": "execute_result"
    }
   ],
   "source": [
    "\n",
    "dvf = values.iloc[:, :-1]\n",
    "dvf[\"vva\"] = dvf.apply(lambda x: GK(x[\"A1\"], x[\"A1\"], v1), axis=1)\n",
    "dvf[\"vvb\"] = dvf.apply(lambda x: GK(x[\"A2\"], x[\"A2\"], v2), axis=1)\n",
    "dvf[\"Y\"] = values[\"Y\"]\n",
    "dvf\n",
    "\n"
   ]
  },
  {
   "cell_type": "code",
   "execution_count": null,
   "id": "d592c0e8",
   "metadata": {},
   "outputs": [],
   "source": [
    "def plot_transformations(df):\n",
    "    plt.figure(figsize=(10, 7))\n",
    "    plt.subplot(1, 2, 1)\n",
    "    plt.title(\"Original Points\" )\n",
    "    plt.scatter(df.A1, df.A2, c = df.Label,cmap=cmap )\n",
    "    plt.xlabel(\"a1\")\n",
    "    plt.ylabel(\"a2\")\n",
    "    \n",
    "    plt.subplot(1, 2, 2)\n",
    "    plt.scatter(df.vva, df.vvb, c = df.Label,cmap=cmap )\n",
    "    plt.title(\"Transformed Points\" )\n",
    "    plt.xlabel(\"vva\")\n",
    "    plt.ylabel(\"vvb\")\n",
    "    plt.show()"
   ]
  }
 ],
 "metadata": {
  "kernelspec": {
   "display_name": "Python 3",
   "language": "python",
   "name": "python3"
  },
  "language_info": {
   "codemirror_mode": {
    "name": "ipython",
    "version": 3
   },
   "file_extension": ".py",
   "mimetype": "text/x-python",
   "name": "python",
   "nbconvert_exporter": "python",
   "pygments_lexer": "ipython3",
   "version": "3.8.6"
  }
 },
 "nbformat": 4,
 "nbformat_minor": 5
}
